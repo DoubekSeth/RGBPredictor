{
  "nbformat": 4,
  "nbformat_minor": 0,
  "metadata": {
    "colab": {
      "name": "RGBPredictor.ipynb",
      "version": "0.3.2",
      "provenance": [],
      "include_colab_link": true
    },
    "kernelspec": {
      "name": "python3",
      "display_name": "Python 3"
    },
    "accelerator": "GPU"
  },
  "cells": [
    {
      "cell_type": "markdown",
      "metadata": {
        "id": "view-in-github",
        "colab_type": "text"
      },
      "source": [
        "[View in Colaboratory](https://colab.research.google.com/github/DoubekSeth/RGBPredictor/blob/master/RGBPredictor.ipynb)"
      ]
    },
    {
      "metadata": {
        "id": "4hPToU-ud9uI",
        "colab_type": "code",
        "colab": {}
      },
      "cell_type": "code",
      "source": [
        "import tensorflow as tf\n",
        "from tensorflow import keras\n",
        "\n",
        "import numpy as np\n",
        "import matplotlib.pyplot as plt"
      ],
      "execution_count": 0,
      "outputs": []
    },
    {
      "metadata": {
        "id": "wlg5LPjVfT94",
        "colab_type": "text"
      },
      "cell_type": "markdown",
      "source": [
        "Now I import the data"
      ]
    },
    {
      "metadata": {
        "id": "R4mmC4Q5fWpv",
        "colab_type": "code",
        "colab": {}
      },
      "cell_type": "code",
      "source": [
        "training = [[255, 255, 255, 0],\n",
        "[0, 0, 0, 1],\n",
        "[127, 127, 127, 0],\n",
        "[63, 63, 63, 0],\n",
        "[191, 191, 191, 0],\n",
        "[255, 0, 0, 0],\n",
        "[127, 0, 0, 1],\n",
        "[0, 255, 0, 0],\n",
        "[0, 127, 0, 0],\n",
        "[0, 0, 255, 1],\n",
        "[0, 0, 127, 1],\n",
        "[0, 255, 255, 0],\n",
        "[0, 127, 127, 0],\n",
        "[255, 0, 255, 0],\n",
        "[127, 0, 127, 1],\n",
        "[255, 255, 0, 0],\n",
        "[127, 127, 0, 0],\n",
        "[96, 219, 150, 0],\n",
        "[174, 181, 42, 0],\n",
        "[241, 199, 9, 0],\n",
        "[136, 234, 192, 0],\n",
        "[225, 200, 90, 0],\n",
        "[155, 83, 20, 1],\n",
        "[96, 200, 39, 0],\n",
        "[43, 33, 186, 1],\n",
        "[104, 101, 20, 1],\n",
        "[146, 93, 207, 0],\n",
        "[73, 88, 165, 1],\n",
        "[187, 12, 117, 0],\n",
        "[103, 100, 51, 1],\n",
        "[218, 23, 108, 0],\n",
        "[25, 171, 71, 0],\n",
        "[79, 50, 8, 1],\n",
        "[32, 248, 104, 0],\n",
        "[242, 192, 72, 0],\n",
        "[122, 32, 25, 1],\n",
        "[38, 149, 237, 0],\n",
        "[101, 15, 114, 1],\n",
        "[106, 117, 171, 0],\n",
        "[14, 65, 76, 1],\n",
        "[126, 52, 239, 1],\n",
        "[68, 52, 168, 1],\n",
        "[50, 186, 109, 0],\n",
        "[196, 191, 245, 0],\n",
        "[149, 219, 123, 0],\n",
        "[197, 52, 95, 0],\n",
        "[192, 240, 74, 0],\n",
        "[38, 141, 80, 0],\n",
        "[205, 125, 99, 0],\n",
        "[212, 81, 121, 0],\n",
        "[240, 201, 22, 0],\n",
        "[5, 159, 85, 0],\n",
        "[24, 70, 88, 1],\n",
        "[197, 212, 40, 0],\n",
        "[163, 16, 226, 0],\n",
        "[42, 71, 232, 1],\n",
        "[204, 5, 62, 0],\n",
        "[85, 255, 157, 0],\n",
        "[116, 143, 103, 0],\n",
        "[14, 133, 105, 0],\n",
        "[213, 53, 247, 0],\n",
        "[65, 8, 147, 1],\n",
        "[132, 207, 181, 0],\n",
        "[109, 52, 106, 1],\n",
        "[153, 141, 180, 0],\n",
        "[16, 66, 173, 1],\n",
        "[215, 155, 107, 0],\n",
        "[237, 231, 161, 0],\n",
        "[53, 163, 190, 0],\n",
        "[111, 250, 87, 0],\n",
        "[218, 236, 23, 0],\n",
        "[131, 148, 55, 1],\n",
        "[235, 255, 246, 0],\n",
        "[244, 167, 253, 0],\n",
        "[239, 185, 250, 0],\n",
        "[254, 18, 157, 0],\n",
        "[140, 251, 84, 0],\n",
        "[197, 115, 248, 0],\n",
        "[215, 149, 17, 0],\n",
        "[58, 11, 158, 1],\n",
        "[77, 98, 49, 0],\n",
        "[161, 163, 15, 0],\n",
        "[213, 61, 214, 0],\n",
        "[11, 179, 81, 0],\n",
        "[0, 75, 185, 0],\n",
        "[220, 135, 221, 0],\n",
        "[29, 69, 12, 1],\n",
        "[79, 189, 136, 0],\n",
        "[110, 210, 68, 0],\n",
        "[175, 130, 231, 0],\n",
        "[39, 80, 91, 1],\n",
        "[86, 115, 64, 0],\n",
        "[223, 69, 10, 0],\n",
        "[49, 233, 33, 0],\n",
        "[253, 119, 22, 0],\n",
        "[3, 68, 2, 1],\n",
        "[51, 139, 33, 0],\n",
        "[31, 249, 116, 0],\n",
        "[181, 149, 38, 0],\n",
        "[46, 139, 221, 0],\n",
        "[109, 252, 119, 0],\n",
        "[161, 12, 49, 0],\n",
        "[200, 232, 238, 0],\n",
        "[111, 18, 69, 1],\n",
        "[35, 105, 163, 0],\n",
        "[72, 41, 131, 1],\n",
        "[64, 199, 209, 0],\n",
        "[209, 11, 158, 0],\n",
        "[231, 175, 115, 0],\n",
        "[141, 85, 93, 0],\n",
        "[92, 6, 236, 1],\n",
        "[146, 163, 149, 0],\n",
        "[149, 113, 10, 0],\n",
        "[130, 209, 18, 0],\n",
        "[14, 87, 0, 1],\n",
        "[124, 128, 99, 0],\n",
        "[101, 7, 86, 1],\n",
        "[124, 117, 113, 0],\n",
        "[191, 51, 182, 0],\n",
        "[52, 79, 231, 1],\n",
        "[83, 180, 164, 0],\n",
        "[250, 50, 154, 0],\n",
        "[4, 79, 253, 0],\n",
        "[53, 9, 44, 1],\n",
        "[56, 20, 237, 1],\n",
        "[16, 100, 34, 1],\n",
        "[231, 48, 188, 0],\n",
        "[77, 40, 229, 1],\n",
        "[72, 118, 114, 0],\n",
        "[26, 109, 160, 0],\n",
        "[123, 242, 86, 0],\n",
        "[75, 164, 56, 0],\n",
        "[120, 158, 79, 0],\n",
        "[242, 86, 91, 0],\n",
        "[39, 28, 156, 1],\n",
        "[43, 96, 89, 0],\n",
        "[68, 172, 133, 0],\n",
        "[5, 22, 11, 1],\n",
        "[202, 221, 56, 0],\n",
        "[181, 153, 238, 0],\n",
        "[161, 240, 77, 0],\n",
        "[84, 179, 142, 0],\n",
        "[183, 19, 150, 0],\n",
        "[166, 9, 175, 0],\n",
        "[19, 3, 187, 1],\n",
        "[126, 253, 7, 0],\n",
        "[175, 148, 168, 0],\n",
        "[99, 47, 234, 1],\n",
        "[92, 221, 70, 0],\n",
        "[110, 28, 3, 1],\n",
        "[233, 122, 194, 0],\n",
        "[139, 184, 165, 0],\n",
        "[174, 40, 73, 0],\n",
        "[183, 161, 183, 0],\n",
        "[46, 124, 12, 0],\n",
        "[21, 205, 211, 0],\n",
        "[238, 202, 236, 0],\n",
        "[40, 100, 136, 1],\n",
        "[35, 121, 226, 0],\n",
        "[9, 156, 205, 0],\n",
        "[183, 160, 236, 0],\n",
        "[66, 237, 193, 0],\n",
        "[95, 136, 81, 0],\n",
        "[188, 132, 131, 0],\n",
        "[53, 137, 173, 0],\n",
        "[2, 175, 56, 0],\n",
        "[158, 75, 72, 0],\n",
        "[61, 6, 217, 1],\n",
        "[44, 105, 58, 0],\n",
        "[94, 158, 175, 0],\n",
        "[191, 207, 51, 0],\n",
        "[86, 160, 79, 0],\n",
        "[183, 93, 201, 0],\n",
        "[222, 203, 247, 0],\n",
        "[42, 74, 200, 1],\n",
        "[208, 15, 45, 0],\n",
        "[209, 184, 131, 0],\n",
        "[159, 37, 86, 0],\n",
        "[63, 104, 98, 1],\n",
        "[20, 143, 238, 0],\n",
        "[193, 222, 27, 0],\n",
        "[62, 113, 211, 0]]"
      ],
      "execution_count": 0,
      "outputs": []
    },
    {
      "metadata": {
        "id": "cxJ8JQmdflkN",
        "colab_type": "text"
      },
      "cell_type": "markdown",
      "source": [
        "Process the data"
      ]
    },
    {
      "metadata": {
        "id": "p4RPMBs2fotv",
        "colab_type": "code",
        "colab": {}
      },
      "cell_type": "code",
      "source": [
        "counter = 0\n",
        "trainingX = []\n",
        "trainingY = []\n",
        "for i in training:\n",
        "  smallX = []\n",
        "  counter = 0\n",
        "  for j in i:\n",
        "    if counter <= 2:\n",
        "      smallX.append(j/255)\n",
        "    else:\n",
        "      trainingY.append(j)\n",
        "    counter += 1\n",
        "  trainingX.append(smallX)"
      ],
      "execution_count": 0,
      "outputs": []
    },
    {
      "metadata": {
        "id": "0m15XEguk7t9",
        "colab_type": "text"
      },
      "cell_type": "markdown",
      "source": [
        "Next I think we'll use Keras to setup a basic layers for the deep learning model"
      ]
    },
    {
      "metadata": {
        "id": "ORDPpMSHlCa-",
        "colab_type": "code",
        "colab": {}
      },
      "cell_type": "code",
      "source": [
        "model = keras.Sequential([\n",
        "    keras.layers.Dense(10, activation = tf.nn.relu),\n",
        "    keras.layers.Dense(2, activation = tf.nn.softmax)\n",
        "])\n",
        "\n",
        "#Also setting up the compilation\n",
        "model.compile(optimizer=tf.train.AdamOptimizer(), \n",
        "              loss='sparse_categorical_crossentropy',\n",
        "              metrics=['accuracy'])"
      ],
      "execution_count": 0,
      "outputs": []
    },
    {
      "metadata": {
        "id": "6YBdzvc0lwgW",
        "colab_type": "text"
      },
      "cell_type": "markdown",
      "source": [
        "Finally lets get this bad boy training"
      ]
    },
    {
      "metadata": {
        "id": "CmVQwdK3lzxd",
        "colab_type": "code",
        "colab": {
          "base_uri": "https://localhost:8080/",
          "height": 391
        },
        "outputId": "ab2dd130-c544-4c12-b82e-5d762300ad99"
      },
      "cell_type": "code",
      "source": [
        "trainingX = np.asarray(trainingX)\n",
        "trainingY = np.asarray(trainingY)\n",
        "model.fit(trainingX, trainingY, epochs = 10, validation_split = .5)"
      ],
      "execution_count": 27,
      "outputs": [
        {
          "output_type": "stream",
          "text": [
            "Train on 91 samples, validate on 91 samples\n",
            "Epoch 1/10\n",
            "91/91 [==============================] - 0s 2ms/step - loss: 0.6729 - acc: 0.6264 - val_loss: 0.6645 - val_acc: 0.6593\n",
            "Epoch 2/10\n",
            "91/91 [==============================] - 0s 248us/step - loss: 0.6663 - acc: 0.6264 - val_loss: 0.6571 - val_acc: 0.6703\n",
            "Epoch 3/10\n",
            "91/91 [==============================] - 0s 293us/step - loss: 0.6596 - acc: 0.6264 - val_loss: 0.6498 - val_acc: 0.6813\n",
            "Epoch 4/10\n",
            "91/91 [==============================] - 0s 323us/step - loss: 0.6539 - acc: 0.6044 - val_loss: 0.6424 - val_acc: 0.6923\n",
            "Epoch 5/10\n",
            "91/91 [==============================] - 0s 377us/step - loss: 0.6477 - acc: 0.5934 - val_loss: 0.6351 - val_acc: 0.7143\n",
            "Epoch 6/10\n",
            "91/91 [==============================] - 0s 275us/step - loss: 0.6416 - acc: 0.6264 - val_loss: 0.6280 - val_acc: 0.7143\n",
            "Epoch 7/10\n",
            "91/91 [==============================] - 0s 237us/step - loss: 0.6348 - acc: 0.6703 - val_loss: 0.6213 - val_acc: 0.7692\n",
            "Epoch 8/10\n",
            "91/91 [==============================] - 0s 223us/step - loss: 0.6293 - acc: 0.7143 - val_loss: 0.6145 - val_acc: 0.7802\n",
            "Epoch 9/10\n",
            "91/91 [==============================] - 0s 257us/step - loss: 0.6233 - acc: 0.7143 - val_loss: 0.6078 - val_acc: 0.7802\n",
            "Epoch 10/10\n",
            "91/91 [==============================] - 0s 247us/step - loss: 0.6171 - acc: 0.7253 - val_loss: 0.6013 - val_acc: 0.7802\n"
          ],
          "name": "stdout"
        },
        {
          "output_type": "execute_result",
          "data": {
            "text/plain": [
              "<tensorflow.python.keras.callbacks.History at 0x7f5d2f78c8d0>"
            ]
          },
          "metadata": {
            "tags": []
          },
          "execution_count": 27
        }
      ]
    },
    {
      "metadata": {
        "id": "7r0q1TV4qF0k",
        "colab_type": "text"
      },
      "cell_type": "markdown",
      "source": [
        "Now let's see what we did right"
      ]
    },
    {
      "metadata": {
        "id": "AqrTtVWOqJn8",
        "colab_type": "code",
        "colab": {
          "base_uri": "https://localhost:8080/",
          "height": 51
        },
        "outputId": "c9018d09-ff41-4b0c-e07e-d181e3708900"
      },
      "cell_type": "code",
      "source": [
        "test_loss, test_acc = model.evaluate(trainingX, trainingY)\n",
        "\n",
        "print('Training Accuracy:', test_acc)"
      ],
      "execution_count": 28,
      "outputs": [
        {
          "output_type": "stream",
          "text": [
            "182/182 [==============================] - 0s 129us/step\n",
            "Training Accuracy: 0.752747254057245\n"
          ],
          "name": "stdout"
        }
      ]
    },
    {
      "metadata": {
        "id": "WCgcyHrYqcG9",
        "colab_type": "code",
        "colab": {
          "base_uri": "https://localhost:8080/",
          "height": 68
        },
        "outputId": "d349bdf1-983d-47fe-a66b-c06dd679cf76"
      },
      "cell_type": "code",
      "source": [
        "testingX = [[255, 255, 255],\n",
        "            [0, 0, 0],\n",
        "            [99, 100, 250]]\n",
        "testingX = np.asarray(testingX)\n",
        "\n",
        "predictions = model.predict(testingX)\n",
        "\n",
        "print(predictions)"
      ],
      "execution_count": 29,
      "outputs": [
        {
          "output_type": "stream",
          "text": [
            "[[1.0000000e+00 0.0000000e+00]\n",
            " [5.2727115e-01 4.7272888e-01]\n",
            " [1.0000000e+00 4.6970772e-10]]\n"
          ],
          "name": "stdout"
        }
      ]
    }
  ]
}